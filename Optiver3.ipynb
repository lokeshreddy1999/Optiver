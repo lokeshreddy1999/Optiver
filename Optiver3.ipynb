{
  "nbformat": 4,
  "nbformat_minor": 0,
  "metadata": {
    "colab": {
      "provenance": [],
      "authorship_tag": "ABX9TyNYfI16/WGEq6K6eYbRzYzr",
      "include_colab_link": true
    },
    "kernelspec": {
      "name": "python3",
      "display_name": "Python 3"
    },
    "language_info": {
      "name": "python"
    }
  },
  "cells": [
    {
      "cell_type": "markdown",
      "metadata": {
        "id": "view-in-github",
        "colab_type": "text"
      },
      "source": [
        "<a href=\"https://colab.research.google.com/github/lokeshreddy1999/Optiver/blob/main/Optiver3.ipynb\" target=\"_parent\"><img src=\"https://colab.research.google.com/assets/colab-badge.svg\" alt=\"Open In Colab\"/></a>"
      ]
    },
    {
      "cell_type": "code",
      "execution_count": 1,
      "metadata": {
        "id": "pPhQ1Md19LFn"
      },
      "outputs": [],
      "source": [
        "import numpy as np\n",
        "from collections import defaultdict \n",
        "\n",
        "class Graph :\n",
        "    nodes = defaultdict(lambda: defaultdict(Graph.node))\n",
        "    N = 0    \n",
        "\n",
        "    class node:\n",
        "        def __init__(self):\n",
        "            self.visited = False\n",
        "            self.index = 0\n",
        "    \n",
        "    def dfs(x, y, closedBoundary):\n",
        "        if((not closedBoundary(x, y)) or Graph.nodes[x][y].visited):\n",
        "            return \n",
        "        Graph.nodes[x][y].visited = True\n",
        "        Graph.nodes[x][y].index = Graph.N\n",
        "        Graph.N = Graph.N + 1\n",
        "        Graph.dfs(x+1, y, closedBoundary)\n",
        "        Graph.dfs(x-1, y, closedBoundary)\n",
        "        Graph.dfs(x, y+1, closedBoundary)\n",
        "        Graph.dfs(x, y-1, closedBoundary)\n",
        "        return\n",
        "\n",
        "    def GetExpectedTime(x, y, closedBoundary):\n",
        "        Graph.nodes = defaultdict(lambda: defaultdict(Graph.node))\n",
        "        Graph.N = 0\n",
        "\n",
        "        Graph.dfs(x, y, closedBoundary)\n",
        "\n",
        "        A = np.zeros((Graph.N, Graph.N), dtype= np.float32)\n",
        "        B = np.ones(Graph.N)\n",
        "        def check(i, u, v):\n",
        "            if u in Graph.nodes and v in Graph.nodes[u]:\n",
        "                A[i][Graph.nodes[u][v].index] = -0.25\n",
        "            return  \n",
        "\n",
        "        for u in Graph.nodes:\n",
        "            for v in Graph.nodes[u]:\n",
        "                i = Graph.nodes[u][v].index\n",
        "                A[i][i] = 1\n",
        "                check(i, u+1, v)\n",
        "                check(i, u-1, v)\n",
        "                check(i, u, v+1)\n",
        "                check(i, u, v-1)\n",
        "\n",
        "\n",
        "        return np.linalg.inv(A).dot(B)[0]"
      ]
    },
    {
      "cell_type": "code",
      "source": [
        "def closedBoundary(x, y):\n",
        "    return (x-2)*(x+2)*(y-2)*(y+2) > 0\n",
        "Graph.GetExpectedTime(0, 0, closedBoundary)"
      ],
      "metadata": {
        "colab": {
          "base_uri": "https://localhost:8080/"
        },
        "id": "84Zs1GYcIHCe",
        "outputId": "4623667b-ea9b-485f-95ec-70c8e35d67c4"
      },
      "execution_count": null,
      "outputs": [
        {
          "output_type": "execute_result",
          "data": {
            "text/plain": [
              "4.5"
            ]
          },
          "metadata": {},
          "execution_count": 115
        }
      ]
    },
    {
      "cell_type": "code",
      "source": [
        "def closedBoundary2(x, y):\n",
        "    return ((x-0.25)/3)**2 + ((y-0.25)/4)**2 < 1\n",
        "Graph.GetExpectedTime(0, 0, closedBoundary2)"
      ],
      "metadata": {
        "colab": {
          "base_uri": "https://localhost:8080/",
          "height": 0
        },
        "id": "tgJyKMWknDQt",
        "outputId": "5fb88574-7b90-4a70-d5b2-63bb5ffe9e74"
      },
      "execution_count": 2,
      "outputs": [
        {
          "output_type": "execute_result",
          "data": {
            "text/plain": [
              "13.992053031921387"
            ]
          },
          "metadata": {},
          "execution_count": 2
        }
      ]
    },
    {
      "cell_type": "code",
      "source": [
        "                                              "
      ],
      "metadata": {
        "id": "P1RlgMzkz3-m"
      },
      "execution_count": null,
      "outputs": []
    }
  ]
}